{
 "cells": [
  {
   "cell_type": "markdown",
   "id": "45325ade",
   "metadata": {},
   "source": [
    "This is the latest notebook. There we will use additional information about purchases and prices of other currencies."
   ]
  },
  {
   "cell_type": "markdown",
   "id": "2b9834f2",
   "metadata": {},
   "source": [
    "# Context"
   ]
  },
  {
   "cell_type": "markdown",
   "id": "63fc67e7",
   "metadata": {},
   "source": [
    "Initially, we had several million lines of raw data on 170+ currencies.\n",
    "\n",
    "At the very beginning, we divided the data into tables for each currency. Next, we reduced the size and unified the format of table storage using quantization. \n",
    "\n",
    "After that we started to analyze only target currency prices, learned how to automatically build several dozens of the most useful features (using statistical tests and feature importance selection).\n",
    "\n",
    "The **first** approach that comes to mind is to generate all of these attributes for all of the currencies, combine it into one table, and repeat the procedure of selecting the most useful features. By doing this, we will get the most informative dependencies between the target currency and the other. But this approach has a **disadvantage** - we will have about $170 \\times 30 \\approx 6K$ attributes for model training. This is expensive. In addition, it is hard to regulate the non-correlativity of the obtained attributes (this is very important in `feature_importance` selection).\n",
    "\n",
    "# Solution\n",
    "\n",
    "To combat this problem, we will initially select only those currencies that are **highly correlated** with the target currency. \n",
    "\n",
    "Note that the usual distances between vectors, which are obtained by projecting the values of the time series onto the time axis, will **not suit us**. For more details on the reasons for this, see **DOCS**. \n",
    "\n",
    "We will do the following - from each time series we will construct a new time series, the values of which at each moment of time are % changes of the values of the original ones. After that we will compare the distances between the obtained series. This approach has several advantages (you can also read about it in **DOCS**)."
   ]
  },
  {
   "cell_type": "code",
   "execution_count": 1,
   "id": "4c65c506",
   "metadata": {
    "scrolled": true
   },
   "outputs": [],
   "source": [
    "import sys\n",
    "sys.path.append('../src')\n",
    "\n",
    "import numpy as np\n",
    "import pandas as pd\n",
    "import extraction_utils\n",
    "import time\n",
    "import preprocessing_utils"
   ]
  },
  {
   "cell_type": "code",
   "execution_count": 2,
   "id": "8fd188a7",
   "metadata": {
    "code_folding": [
     0
    ]
   },
   "outputs": [],
   "source": [
    "names = np.array([\n",
    "    '1000LUNC_USDT_PERP', '1000SHIB_USDT_PERP', '1000XEC_USDT_PERP',\n",
    "    '1INCH_USDT_PERP', 'AAVE_USDT_PERP', 'ADA_BUSD_PERP', 'ADA_USDT_PERP',\n",
    "    'ALGO_USDT_PERP', 'ALICE_USDT_PERP', 'ALPHA_USDT_PERP', 'ANC_BUSD_PERP',\n",
    "    'ANKR_USDT_PERP', 'ANT_USDT_PERP', 'APE_BUSD_PERP', 'APE_USDT_PERP',\n",
    "    'API3_USDT_PERP', 'APT_USDT_PERP', 'ARPA_USDT_PERP', 'AR_USDT_PERP',\n",
    "    'ATA_USDT_PERP', 'ATOM_USDT_PERP', 'AUDIO_USDT_PERP', 'AVAX_BUSD_PERP',\n",
    "    'AVAX_USDT_PERP', 'AXS_USDT_PERP', 'BAKE_USDT_PERP', 'BAL_USDT_PERP',\n",
    "    'BAND_USDT_PERP', 'BAT_USDT_PERP', 'BCH_USDT_PERP', 'BEL_USDT_PERP',\n",
    "    'BLZ_USDT_PERP', 'BNB_BUSD_PERP', 'BNB_USDT_PERP', 'BNX_USDT_PERP',\n",
    "    'BTCDOM_USDT_PERP', 'BTC_BUSD_PERP', 'BTC_USDT_CQ', 'BTC_USDT_PERP',\n",
    "    'C98_USDT_PERP', 'CELO_USDT_PERP', 'CELR_USDT_PERP', 'CHR_USDT_PERP',\n",
    "    'CHZ_USDT_PERP', 'COMP_USDT_PERP', 'COTI_USDT_PERP', 'CRV_USDT_PERP',\n",
    "    'CTK_USDT_PERP', 'CTSI_USDT_PERP', 'CVC_USDT_PERP', 'CVX_USDT_PERP',\n",
    "    'DAR_USDT_PERP', 'DASH_USDT_PERP', 'DEFI_USDT_PERP', 'DENT_USDT_PERP',\n",
    "    'DGB_USDT_PERP', 'DODO_BUSD_PERP', 'DOGE_BUSD_PERP', 'DOGE_USDT_PERP',\n",
    "    'DOT_BUSD_PERP', 'DOT_USDT_PERP', 'DUSK_USDT_PERP', 'DYDX_USDT_PERP',\n",
    "    'EGLD_USDT_PERP', 'ENJ_USDT_PERP', 'ENS_USDT_PERP', 'EOS_USDT_PERP',\n",
    "    'ETC_BUSD_PERP', 'ETC_USDT_PERP', 'ETH_BUSD_PERP', 'ETH_USDT_CQ',\n",
    "    'ETH_USDT_PERP', 'FIL_BUSD_PERP', 'FIL_USDT_PERP', 'FLM_USDT_PERP',\n",
    "    'FLOW_USDT_PERP', 'FOOTBALL_USDT_PERP', 'FTM_BUSD_PERP', 'FTM_USDT_PERP',\n",
    "    'GALA_BUSD_PERP', 'GALA_USDT_PERP', 'GAL_BUSD_PERP', 'GAL_USDT_PERP',\n",
    "    'GMT_BUSD_PERP', 'GMT_USDT_PERP', 'GRT_USDT_PERP', 'GTC_USDT_PERP',\n",
    "    'HBAR_USDT_PERP', 'HNT_USDT_PERP', 'HOT_USDT_PERP', 'ICP_BUSD_PERP',\n",
    "    'ICP_USDT_PERP', 'ICX_USDT_PERP', 'IMX_USDT_PERP', 'INJ_USDT_PERP',\n",
    "    'IOST_USDT_PERP', 'IOTA_USDT_PERP', 'IOTX_USDT_PERP', 'JASMY_USDT_PERP',\n",
    "    'KAVA_USDT_PERP', 'KLAY_USDT_PERP', 'KNC_USDT_PERP', 'KSM_USDT_PERP',\n",
    "    'LDO_USDT_PERP', 'LINA_USDT_PERP', 'LINK_BUSD_PERP', 'LINK_USDT_PERP',\n",
    "    'LIT_USDT_PERP', 'LPT_USDT_PERP', 'LRC_USDT_PERP', 'LTC_USDT_PERP',\n",
    "    'LUNA2_USDT_PERP', 'MANA_USDT_PERP', 'MASK_USDT_PERP', 'MATIC_BUSD_PERP',\n",
    "    'MATIC_USDT_PERP', 'MKR_USDT_PERP', 'MTL_USDT_PERP', 'NEAR_BUSD_PERP',\n",
    "    'NEAR_USDT_PERP', 'NEO_USDT_PERP', 'NKN_USDT_PERP', 'OCEAN_USDT_PERP',\n",
    "    'OGN_USDT_PERP', 'OMG_USDT_PERP', 'ONE_USDT_PERP', 'ONT_USDT_PERP',\n",
    "    'OP_USDT_PERP', 'PEOPLE_USDT_PERP', 'QNT_USDT_PERP', 'QTUM_USDT_PERP',\n",
    "    'RAY_USDT_PERP', 'REEF_USDT_PERP', 'REN_USDT_PERP', 'RLC_USDT_PERP',\n",
    "    'ROSE_USDT_PERP', 'RSR_USDT_PERP', 'RUNE_USDT_PERP', 'RVN_USDT_PERP',\n",
    "    'SAND_USDT_PERP', 'SFP_USDT_PERP', 'SKL_USDT_PERP', 'SNX_USDT_PERP',\n",
    "    'SOL_BUSD_PERP', 'SOL_USDT_PERP', 'SPELL_USDT_PERP', 'SRM_USDT_PERP',\n",
    "    'STG_USDT_PERP', 'STMX_USDT_PERP', 'STORJ_USDT_PERP', 'SUSHI_USDT_PERP',\n",
    "    'SXP_USDT_PERP', 'THETA_USDT_PERP', 'TOMO_USDT_PERP', 'TRB_USDT_PERP',\n",
    "    'TRX_BUSD_PERP', 'TRX_USDT_PERP', 'UNFI_USDT_PERP', 'UNI_BUSD_PERP',\n",
    "    'UNI_USDT_PERP', 'VET_USDT_PERP', 'WAVES_BUSD_PERP', 'WAVES_USDT_PERP',\n",
    "    'WOO_USDT_PERP', 'XEM_USDT_PERP', 'XLM_USDT_PERP', 'XMR_USDT_PERP',\n",
    "    'XRP_BUSD_PERP', 'XRP_USDT_PERP', 'XTZ_USDT_PERP', 'YFI_USDT_PERP',\n",
    "    'ZEC_USDT_PERP', 'ZEN_USDT_PERP', 'ZIL_USDT_PERP', 'ZRX_USDT_PERP'\n",
    "],\n",
    "                 dtype=object)\n",
    "\n",
    "TARGET_NAME = 'CHZ_USDT_PERP_MIDPRICE'"
   ]
  },
  {
   "cell_type": "code",
   "execution_count": 3,
   "id": "2143c1e3",
   "metadata": {
    "code_folding": []
   },
   "outputs": [],
   "source": [
    "# this dictionary was obtained in the one of runs previous notebook\n",
    "fc_parameters = {'price_mean': {'mean_second_derivative_central': None,\n",
    "  'augmented_dickey_fuller': [{'attr': 'pvalue', 'autolag': 'AIC'}],\n",
    "  'partial_autocorrelation': [{'lag': 3}],\n",
    "  'fft_coefficient': [{'attr': 'imag', 'coeff': 70}],\n",
    "  'cwt_coefficients': [{'coeff': 0, 'w': 2, 'widths': (2, 5, 10, 20)}],\n",
    "  'ar_coefficient': [{'coeff': 8, 'k': 10}],\n",
    "  'skewness': None,\n",
    "  'binned_entropy': [{'max_bins': 10}],\n",
    "  'spkt_welch_density': [{'coeff': 2}],\n",
    "  'friedrich_coefficients': [{'coeff': 3, 'm': 3, 'r': 30}],\n",
    "  'autocorrelation': [{'lag': 3}],\n",
    "  'permutation_entropy': [{'dimension': 3, 'tau': 1}],\n",
    "  'mean_abs_change': None,\n",
    "  'fft_aggregated': [{'aggtype': 'variance'}],\n",
    "  'max_langevin_fixed_point': [{'m': 3, 'r': 30}],\n",
    "  'kurtosis': None,\n",
    "  'energy_ratio_by_chunks': [{'num_segments': 10, 'segment_focus': 0}],\n",
    "  'change_quantiles': [{'f_agg': 'mean', 'isabs': True, 'qh': 0.8, 'ql': 0.0},\n",
    "   {'f_agg': 'mean', 'isabs': False, 'qh': 0.2, 'ql': 0.0}],\n",
    "  'mean_change': None,\n",
    "  'time_reversal_asymmetry_statistic': [{'lag': 3}],\n",
    "  'linear_trend': [{'attr': 'slope'}],\n",
    "  'agg_autocorrelation': [{'f_agg': 'mean', 'maxlag': 40}],\n",
    "  'cid_ce': [{'normalize': True}, {'normalize': False}],\n",
    "  'agg_linear_trend': [{'attr': 'slope', 'chunk_len': 50, 'f_agg': 'max'}],\n",
    "  'root_mean_square': None,\n",
    "  'variation_coefficient': None,\n",
    "  'count_above_mean': None,\n",
    "  'longest_strike_below_mean': None,\n",
    "  'longest_strike_above_mean': None,\n",
    "  'last_location_of_maximum': None}}"
   ]
  },
  {
   "cell_type": "code",
   "execution_count": 4,
   "id": "61f1d2bf",
   "metadata": {},
   "outputs": [],
   "source": [
    "def corr(df1: pd.DataFrame, df2: pd.DataFrame) -> float:\n",
    "    x = 100 * (df1['price_mean'].shift(-1) -\n",
    "               df1['price_mean']) / df1['price_mean']\n",
    "    y = 100 * (df2['price_mean'].shift(-1) -\n",
    "               df2['price_mean']) / df2['price_mean']\n",
    "    \n",
    "    x_diff = x - np.mean(x)\n",
    "    y_diff = y - np.mean(y)               \n",
    "    numerator = np.sum(x_diff * y_diff)\n",
    "    denominator = np.sqrt(np.sum(x_diff ** 2) * np.sum(y_diff ** 2))\n",
    "    return numerator / denominator"
   ]
  },
  {
   "cell_type": "code",
   "execution_count": 5,
   "id": "ee4a97c8",
   "metadata": {},
   "outputs": [],
   "source": [
    "quantized_df_dict = preprocessing_utils.load_tables(names=list(names) +\n",
    "                                              [TARGET_NAME],\n",
    "                                              path_from='../data/quantized')"
   ]
  },
  {
   "cell_type": "code",
   "execution_count": 6,
   "id": "0394a63c",
   "metadata": {},
   "outputs": [],
   "source": [
    "target_table = quantized_df_dict[TARGET_NAME]"
   ]
  },
  {
   "cell_type": "code",
   "execution_count": 7,
   "id": "cfca0b5e",
   "metadata": {},
   "outputs": [],
   "source": [
    "correlations = [(corr(quantized_df_dict[name], target_table), name)\n",
    "                for name in names]"
   ]
  },
  {
   "cell_type": "code",
   "execution_count": 8,
   "id": "4931f434",
   "metadata": {},
   "outputs": [],
   "source": [
    "top_currencies = [corr_info[1] for corr_info in sorted(correlations)[-10:]]"
   ]
  },
  {
   "cell_type": "code",
   "execution_count": 9,
   "id": "646e52e3",
   "metadata": {},
   "outputs": [
    {
     "name": "stdout",
     "output_type": "stream",
     "text": [
      "We see that the most correlated currencies are the following 10:\n",
      "    BNB_USDT_PERP\n",
      "    ETC_USDT_PERP\n",
      "    DOGE_USDT_PERP\n",
      "    SOL_USDT_PERP\n",
      "    BTC_BUSD_PERP\n",
      "    MATIC_USDT_PERP\n",
      "    ETH_BUSD_PERP\n",
      "    ETH_USDT_PERP\n",
      "    BTC_USDT_PERP\n",
      "    CHZ_USDT_PERP\n"
     ]
    }
   ],
   "source": [
    "print(f\"We see that the most correlated currencies are the following 10:\")\n",
    "for curr in top_currencies:\n",
    "    print(\"   \", curr)"
   ]
  },
  {
   "cell_type": "code",
   "execution_count": 10,
   "id": "e1ed0ff9",
   "metadata": {},
   "outputs": [
    {
     "name": "stdout",
     "output_type": "stream",
     "text": [
      "Correlation between 'BNB_USDT_PERP' and 'CHZ_USDT_PERP_MIDPRICE' is 0.21\n",
      "Correlation between 'ETC_USDT_PERP' and 'CHZ_USDT_PERP_MIDPRICE' is 0.22\n",
      "Correlation between 'DOGE_USDT_PERP' and 'CHZ_USDT_PERP_MIDPRICE' is 0.22\n",
      "Correlation between 'SOL_USDT_PERP' and 'CHZ_USDT_PERP_MIDPRICE' is 0.22\n",
      "Correlation between 'BTC_BUSD_PERP' and 'CHZ_USDT_PERP_MIDPRICE' is 0.23\n",
      "Correlation between 'MATIC_USDT_PERP' and 'CHZ_USDT_PERP_MIDPRICE' is 0.24\n",
      "Correlation between 'ETH_BUSD_PERP' and 'CHZ_USDT_PERP_MIDPRICE' is 0.24\n",
      "Correlation between 'ETH_USDT_PERP' and 'CHZ_USDT_PERP_MIDPRICE' is 0.30\n",
      "Correlation between 'BTC_USDT_PERP' and 'CHZ_USDT_PERP_MIDPRICE' is 0.32\n",
      "Correlation between 'CHZ_USDT_PERP' and 'CHZ_USDT_PERP_MIDPRICE' is 0.82\n"
     ]
    }
   ],
   "source": [
    "for curr_info in sorted(correlations)[-10:]:\n",
    "    print(\n",
    "        f\"Correlation between '{curr_info[1]}' and '{TARGET_NAME}' is {curr_info[0]:.2f}\"\n",
    "    )"
   ]
  },
  {
   "cell_type": "code",
   "execution_count": 11,
   "id": "6d108427",
   "metadata": {},
   "outputs": [],
   "source": [
    "# let's leave only the tables we need\n",
    "del quantized_df_dict\n",
    "top_currencies_dict = preprocessing_utils.load_tables(names=list(top_currencies) +\n",
    "                                                [TARGET_NAME],\n",
    "                                                path_from='../data/quantized')"
   ]
  },
  {
   "cell_type": "code",
   "execution_count": 12,
   "id": "60f54982",
   "metadata": {},
   "outputs": [],
   "source": [
    "# add information about which currency this `price_mean` is taken from\n",
    "list_top_currencies = []\n",
    "for i, name in enumerate(top_currencies):\n",
    "    df = top_currencies_dict[name]\n",
    "    cols = df.columns\n",
    "    df.columns = ['(' + name + ') ' + col for col in cols]\n",
    "    list_top_currencies.append(df)\n",
    "\n",
    "target_table.columns = [\n",
    "    '(' + TARGET_NAME + ') ' + col for col in target_table.columns\n",
    "]"
   ]
  },
  {
   "cell_type": "code",
   "execution_count": 13,
   "id": "5f3e2bea",
   "metadata": {},
   "outputs": [],
   "source": [
    "big_df = pd.concat([target_table]+list_top_currencies, axis=1).dropna()\n",
    "index = big_df.index"
   ]
  },
  {
   "cell_type": "code",
   "execution_count": 14,
   "id": "380d67de",
   "metadata": {},
   "outputs": [
    {
     "data": {
      "text/plain": [
       "11106"
      ]
     },
     "execution_count": 14,
     "metadata": {},
     "output_type": "execute_result"
    }
   ],
   "source": [
    "len(index)"
   ]
  },
  {
   "cell_type": "markdown",
   "id": "d4279b33",
   "metadata": {},
   "source": [
    "Due to the fact that we just delete the rows with `NaN`, we have quite a lot of decreased dimensionality.\\\n",
    "The more correlated currencies we take, the fewer rows will remain; that is why we chose the top 10."
   ]
  },
  {
   "cell_type": "markdown",
   "id": "65054a62",
   "metadata": {},
   "source": [
    "Now for each of the currencies we will create a series of dataframes for block cross validation with the count of the most important features (which were obtained in the previous `extract_features` notebook).\\\n",
    "After that, we will compare what kind of increment these features give, counted on correlated currencies.\\\n",
    "And at the very end let's try to select the most important ones among all (among the important features counted for all currencies)."
   ]
  },
  {
   "cell_type": "code",
   "execution_count": 15,
   "id": "11efb94a",
   "metadata": {},
   "outputs": [
    {
     "data": {
      "text/html": [
       "<div>\n",
       "<style scoped>\n",
       "    .dataframe tbody tr th:only-of-type {\n",
       "        vertical-align: middle;\n",
       "    }\n",
       "\n",
       "    .dataframe tbody tr th {\n",
       "        vertical-align: top;\n",
       "    }\n",
       "\n",
       "    .dataframe thead th {\n",
       "        text-align: right;\n",
       "    }\n",
       "</style>\n",
       "<table border=\"1\" class=\"dataframe\">\n",
       "  <thead>\n",
       "    <tr style=\"text-align: right;\">\n",
       "      <th></th>\n",
       "      <th>(CHZ_USDT_PERP_MIDPRICE) price_mean</th>\n",
       "    </tr>\n",
       "    <tr>\n",
       "      <th>event_time</th>\n",
       "      <th></th>\n",
       "    </tr>\n",
       "  </thead>\n",
       "  <tbody>\n",
       "    <tr>\n",
       "      <th>2022-11-15 00:00:00.000</th>\n",
       "      <td>0.198392</td>\n",
       "    </tr>\n",
       "    <tr>\n",
       "      <th>2022-11-15 00:00:00.300</th>\n",
       "      <td>0.198341</td>\n",
       "    </tr>\n",
       "    <tr>\n",
       "      <th>2022-11-15 00:00:00.600</th>\n",
       "      <td>NaN</td>\n",
       "    </tr>\n",
       "  </tbody>\n",
       "</table>\n",
       "</div>"
      ],
      "text/plain": [
       "                         (CHZ_USDT_PERP_MIDPRICE) price_mean\n",
       "event_time                                                  \n",
       "2022-11-15 00:00:00.000                             0.198392\n",
       "2022-11-15 00:00:00.300                             0.198341\n",
       "2022-11-15 00:00:00.600                                  NaN"
      ]
     },
     "execution_count": 15,
     "metadata": {},
     "output_type": "execute_result"
    }
   ],
   "source": [
    "target_table.head(3)"
   ]
  },
  {
   "cell_type": "code",
   "execution_count": 16,
   "id": "7a48be03",
   "metadata": {
    "scrolled": false
   },
   "outputs": [
    {
     "name": "stdout",
     "output_type": "stream",
     "text": [
      "current block: 1/5\n",
      "========--------------------------------\n"
     ]
    },
    {
     "name": "stderr",
     "output_type": "stream",
     "text": [
      "Rolling: 100%|██████████| 40/40 [00:02<00:00, 15.94it/s]\n",
      "Feature Extraction: 100%|██████████| 40/40 [00:05<00:00,  7.96it/s]\n"
     ]
    },
    {
     "name": "stdout",
     "output_type": "stream",
     "text": [
      "current block: 2/5\n",
      "================------------------------\n"
     ]
    },
    {
     "name": "stderr",
     "output_type": "stream",
     "text": [
      "Rolling: 100%|██████████| 40/40 [00:02<00:00, 16.50it/s]\n",
      "Feature Extraction: 100%|██████████| 40/40 [00:04<00:00,  8.32it/s]"
     ]
    },
    {
     "name": "stdout",
     "output_type": "stream",
     "text": [
      "current block: 3/5\n",
      "========================----------------\n"
     ]
    },
    {
     "name": "stderr",
     "output_type": "stream",
     "text": [
      "\n",
      "Rolling: 100%|██████████| 40/40 [00:02<00:00, 15.85it/s]\n",
      "Feature Extraction: 100%|██████████| 40/40 [00:05<00:00,  6.95it/s]\n"
     ]
    },
    {
     "name": "stdout",
     "output_type": "stream",
     "text": [
      "current block: 4/5\n",
      "================================--------\n"
     ]
    },
    {
     "name": "stderr",
     "output_type": "stream",
     "text": [
      "Rolling: 100%|██████████| 40/40 [00:02<00:00, 14.57it/s]\n",
      "Feature Extraction: 100%|██████████| 40/40 [00:05<00:00,  7.35it/s]\n"
     ]
    },
    {
     "name": "stdout",
     "output_type": "stream",
     "text": [
      "current block: 5/5\n",
      "========================================\n"
     ]
    },
    {
     "name": "stderr",
     "output_type": "stream",
     "text": [
      "Rolling: 100%|██████████| 40/40 [00:02<00:00, 13.40it/s]\n",
      "Feature Extraction: 100%|██████████| 40/40 [00:05<00:00,  7.31it/s]\n"
     ]
    },
    {
     "name": "stdout",
     "output_type": "stream",
     "text": [
      "current block: 1/5\n",
      "========--------------------------------\n"
     ]
    },
    {
     "name": "stderr",
     "output_type": "stream",
     "text": [
      "Rolling: 100%|██████████| 40/40 [00:02<00:00, 14.44it/s]\n",
      "Feature Extraction: 100%|██████████| 40/40 [00:06<00:00,  6.32it/s]\n"
     ]
    },
    {
     "name": "stdout",
     "output_type": "stream",
     "text": [
      "current block: 2/5\n",
      "================------------------------\n"
     ]
    },
    {
     "name": "stderr",
     "output_type": "stream",
     "text": [
      "Rolling: 100%|██████████| 40/40 [00:03<00:00, 13.18it/s]\n",
      "Feature Extraction: 100%|██████████| 40/40 [00:05<00:00,  6.69it/s]"
     ]
    },
    {
     "name": "stdout",
     "output_type": "stream",
     "text": [
      "current block: 3/5\n",
      "========================----------------\n"
     ]
    },
    {
     "name": "stderr",
     "output_type": "stream",
     "text": [
      "\n",
      "Rolling: 100%|██████████| 40/40 [00:02<00:00, 13.52it/s]\n",
      "Feature Extraction: 100%|██████████| 40/40 [00:06<00:00,  6.24it/s]"
     ]
    },
    {
     "name": "stdout",
     "output_type": "stream",
     "text": [
      "current block: 4/5\n",
      "================================--------\n"
     ]
    },
    {
     "name": "stderr",
     "output_type": "stream",
     "text": [
      "\n",
      "Rolling: 100%|██████████| 40/40 [00:02<00:00, 13.83it/s]\n",
      "Feature Extraction: 100%|██████████| 40/40 [00:06<00:00,  6.66it/s]\n"
     ]
    },
    {
     "name": "stdout",
     "output_type": "stream",
     "text": [
      "current block: 5/5\n",
      "========================================\n"
     ]
    },
    {
     "name": "stderr",
     "output_type": "stream",
     "text": [
      "Rolling: 100%|██████████| 40/40 [00:02<00:00, 13.41it/s]\n",
      "Feature Extraction: 100%|██████████| 40/40 [00:05<00:00,  6.68it/s]\n"
     ]
    },
    {
     "name": "stdout",
     "output_type": "stream",
     "text": [
      "current block: 1/5\n",
      "========--------------------------------\n"
     ]
    },
    {
     "name": "stderr",
     "output_type": "stream",
     "text": [
      "Rolling: 100%|██████████| 40/40 [00:02<00:00, 13.71it/s]\n",
      "Feature Extraction: 100%|██████████| 40/40 [00:06<00:00,  6.66it/s]"
     ]
    },
    {
     "name": "stdout",
     "output_type": "stream",
     "text": [
      "current block: 2/5\n",
      "================------------------------\n"
     ]
    },
    {
     "name": "stderr",
     "output_type": "stream",
     "text": [
      "\n",
      "Rolling: 100%|██████████| 40/40 [00:02<00:00, 14.04it/s]\n",
      "Feature Extraction: 100%|██████████| 40/40 [00:06<00:00,  6.48it/s]"
     ]
    },
    {
     "name": "stdout",
     "output_type": "stream",
     "text": [
      "current block: 3/5\n",
      "========================----------------\n"
     ]
    },
    {
     "name": "stderr",
     "output_type": "stream",
     "text": [
      "\n",
      "Rolling: 100%|██████████| 40/40 [00:03<00:00, 13.33it/s]\n",
      "Feature Extraction: 100%|██████████| 40/40 [00:05<00:00,  6.84it/s]\n"
     ]
    },
    {
     "name": "stdout",
     "output_type": "stream",
     "text": [
      "current block: 4/5\n",
      "================================--------\n"
     ]
    },
    {
     "name": "stderr",
     "output_type": "stream",
     "text": [
      "Rolling: 100%|██████████| 40/40 [00:02<00:00, 13.58it/s]\n",
      "Feature Extraction: 100%|██████████| 40/40 [00:06<00:00,  6.28it/s]\n"
     ]
    },
    {
     "name": "stdout",
     "output_type": "stream",
     "text": [
      "current block: 5/5\n",
      "========================================\n"
     ]
    },
    {
     "name": "stderr",
     "output_type": "stream",
     "text": [
      "Rolling: 100%|██████████| 40/40 [00:02<00:00, 13.45it/s]\n",
      "Feature Extraction: 100%|██████████| 40/40 [00:06<00:00,  6.59it/s]\n"
     ]
    },
    {
     "name": "stdout",
     "output_type": "stream",
     "text": [
      "current block: 1/5\n",
      "========--------------------------------\n"
     ]
    },
    {
     "name": "stderr",
     "output_type": "stream",
     "text": [
      "Rolling: 100%|██████████| 40/40 [00:02<00:00, 13.47it/s]\n",
      "Feature Extraction: 100%|██████████| 40/40 [00:05<00:00,  6.82it/s]\n"
     ]
    },
    {
     "name": "stdout",
     "output_type": "stream",
     "text": [
      "current block: 2/5\n",
      "================------------------------\n"
     ]
    },
    {
     "name": "stderr",
     "output_type": "stream",
     "text": [
      "Rolling: 100%|██████████| 40/40 [00:02<00:00, 14.12it/s]\n",
      "Feature Extraction: 100%|██████████| 40/40 [00:06<00:00,  6.54it/s]\n"
     ]
    },
    {
     "name": "stdout",
     "output_type": "stream",
     "text": [
      "current block: 3/5\n",
      "========================----------------\n"
     ]
    },
    {
     "name": "stderr",
     "output_type": "stream",
     "text": [
      "Rolling: 100%|██████████| 40/40 [00:03<00:00, 12.72it/s]\n",
      "Feature Extraction: 100%|██████████| 40/40 [00:06<00:00,  6.61it/s]\n"
     ]
    },
    {
     "name": "stdout",
     "output_type": "stream",
     "text": [
      "current block: 4/5\n",
      "================================--------\n"
     ]
    },
    {
     "name": "stderr",
     "output_type": "stream",
     "text": [
      "Rolling: 100%|██████████| 40/40 [00:02<00:00, 13.43it/s]\n",
      "Feature Extraction: 100%|██████████| 40/40 [00:05<00:00,  6.72it/s]\n"
     ]
    },
    {
     "name": "stdout",
     "output_type": "stream",
     "text": [
      "current block: 5/5\n",
      "========================================\n"
     ]
    },
    {
     "name": "stderr",
     "output_type": "stream",
     "text": [
      "Rolling: 100%|██████████| 40/40 [00:02<00:00, 14.09it/s]\n",
      "Feature Extraction: 100%|██████████| 40/40 [00:06<00:00,  6.52it/s]\n"
     ]
    },
    {
     "name": "stdout",
     "output_type": "stream",
     "text": [
      "current block: 1/5\n",
      "========--------------------------------\n"
     ]
    },
    {
     "name": "stderr",
     "output_type": "stream",
     "text": [
      "Rolling: 100%|██████████| 40/40 [00:03<00:00, 12.66it/s]\n",
      "Feature Extraction: 100%|██████████| 40/40 [00:06<00:00,  6.60it/s]"
     ]
    },
    {
     "name": "stdout",
     "output_type": "stream",
     "text": [
      "current block: 2/5\n",
      "================------------------------\n"
     ]
    },
    {
     "name": "stderr",
     "output_type": "stream",
     "text": [
      "\n",
      "Rolling: 100%|██████████| 40/40 [00:02<00:00, 13.45it/s]\n",
      "Feature Extraction: 100%|██████████| 40/40 [00:06<00:00,  6.64it/s]\n"
     ]
    },
    {
     "name": "stdout",
     "output_type": "stream",
     "text": [
      "current block: 3/5\n",
      "========================----------------\n"
     ]
    },
    {
     "name": "stderr",
     "output_type": "stream",
     "text": [
      "Rolling: 100%|██████████| 40/40 [00:03<00:00, 12.86it/s]\n",
      "Feature Extraction: 100%|██████████| 40/40 [00:06<00:00,  6.44it/s]\n"
     ]
    },
    {
     "name": "stdout",
     "output_type": "stream",
     "text": [
      "current block: 4/5\n",
      "================================--------\n"
     ]
    },
    {
     "name": "stderr",
     "output_type": "stream",
     "text": [
      "Rolling: 100%|██████████| 40/40 [00:03<00:00, 12.78it/s]\n",
      "Feature Extraction: 100%|██████████| 40/40 [00:06<00:00,  6.54it/s]\n"
     ]
    },
    {
     "name": "stdout",
     "output_type": "stream",
     "text": [
      "current block: 5/5\n",
      "========================================\n"
     ]
    },
    {
     "name": "stderr",
     "output_type": "stream",
     "text": [
      "Rolling: 100%|██████████| 40/40 [00:03<00:00, 13.03it/s]\n",
      "Feature Extraction: 100%|██████████| 40/40 [00:06<00:00,  6.05it/s]\n"
     ]
    },
    {
     "name": "stdout",
     "output_type": "stream",
     "text": [
      "current block: 1/5\n",
      "========--------------------------------\n"
     ]
    },
    {
     "name": "stderr",
     "output_type": "stream",
     "text": [
      "Rolling: 100%|██████████| 40/40 [00:03<00:00, 13.05it/s]\n",
      "Feature Extraction: 100%|██████████| 40/40 [00:06<00:00,  5.78it/s]\n"
     ]
    },
    {
     "name": "stdout",
     "output_type": "stream",
     "text": [
      "current block: 2/5\n",
      "================------------------------\n"
     ]
    },
    {
     "name": "stderr",
     "output_type": "stream",
     "text": [
      "Rolling: 100%|██████████| 40/40 [00:03<00:00, 12.82it/s]\n",
      "Feature Extraction: 100%|██████████| 40/40 [00:07<00:00,  5.58it/s]"
     ]
    },
    {
     "name": "stdout",
     "output_type": "stream",
     "text": [
      "current block: 3/5\n",
      "========================----------------\n"
     ]
    },
    {
     "name": "stderr",
     "output_type": "stream",
     "text": [
      "\n",
      "Rolling: 100%|██████████| 40/40 [00:03<00:00, 11.78it/s]\n",
      "Feature Extraction: 100%|██████████| 40/40 [00:06<00:00,  5.91it/s]\n"
     ]
    },
    {
     "name": "stdout",
     "output_type": "stream",
     "text": [
      "current block: 4/5\n",
      "================================--------\n"
     ]
    },
    {
     "name": "stderr",
     "output_type": "stream",
     "text": [
      "Rolling: 100%|██████████| 40/40 [00:03<00:00, 12.14it/s]\n",
      "Feature Extraction: 100%|██████████| 40/40 [00:07<00:00,  5.47it/s]\n"
     ]
    },
    {
     "name": "stdout",
     "output_type": "stream",
     "text": [
      "current block: 5/5\n",
      "========================================\n"
     ]
    },
    {
     "name": "stderr",
     "output_type": "stream",
     "text": [
      "Rolling: 100%|██████████| 40/40 [00:03<00:00, 11.63it/s]\n",
      "Feature Extraction: 100%|██████████| 40/40 [00:07<00:00,  5.68it/s]\n"
     ]
    },
    {
     "name": "stdout",
     "output_type": "stream",
     "text": [
      "current block: 1/5\n",
      "========--------------------------------\n"
     ]
    },
    {
     "name": "stderr",
     "output_type": "stream",
     "text": [
      "Rolling: 100%|██████████| 40/40 [00:03<00:00, 12.34it/s]\n",
      "Feature Extraction: 100%|██████████| 40/40 [00:06<00:00,  6.40it/s]\n"
     ]
    },
    {
     "name": "stdout",
     "output_type": "stream",
     "text": [
      "current block: 2/5\n",
      "================------------------------\n"
     ]
    },
    {
     "name": "stderr",
     "output_type": "stream",
     "text": [
      "Rolling: 100%|██████████| 40/40 [00:03<00:00, 13.19it/s]\n",
      "Feature Extraction: 100%|██████████| 40/40 [00:06<00:00,  6.03it/s]"
     ]
    },
    {
     "name": "stdout",
     "output_type": "stream",
     "text": [
      "current block: 3/5\n",
      "========================----------------\n"
     ]
    },
    {
     "name": "stderr",
     "output_type": "stream",
     "text": [
      "\n",
      "Rolling: 100%|██████████| 40/40 [00:03<00:00, 11.47it/s]\n",
      "Feature Extraction: 100%|██████████| 40/40 [00:06<00:00,  5.98it/s]\n"
     ]
    },
    {
     "name": "stdout",
     "output_type": "stream",
     "text": [
      "current block: 4/5\n",
      "================================--------\n"
     ]
    },
    {
     "name": "stderr",
     "output_type": "stream",
     "text": [
      "Rolling: 100%|██████████| 40/40 [00:03<00:00, 12.61it/s]\n",
      "Feature Extraction: 100%|██████████| 40/40 [00:06<00:00,  6.17it/s]"
     ]
    },
    {
     "name": "stdout",
     "output_type": "stream",
     "text": [
      "current block: 5/5\n",
      "========================================\n"
     ]
    },
    {
     "name": "stderr",
     "output_type": "stream",
     "text": [
      "\n",
      "Rolling: 100%|██████████| 40/40 [00:03<00:00, 12.64it/s]\n",
      "Feature Extraction: 100%|██████████| 40/40 [00:06<00:00,  6.40it/s]\n"
     ]
    },
    {
     "name": "stdout",
     "output_type": "stream",
     "text": [
      "current block: 1/5\n",
      "========--------------------------------\n"
     ]
    },
    {
     "name": "stderr",
     "output_type": "stream",
     "text": [
      "Rolling: 100%|██████████| 40/40 [00:03<00:00, 12.97it/s]\n",
      "Feature Extraction: 100%|██████████| 40/40 [00:06<00:00,  5.76it/s]"
     ]
    },
    {
     "name": "stdout",
     "output_type": "stream",
     "text": [
      "current block: 2/5\n",
      "================------------------------\n"
     ]
    },
    {
     "name": "stderr",
     "output_type": "stream",
     "text": [
      "\n",
      "Rolling: 100%|██████████| 40/40 [00:03<00:00, 12.68it/s]\n",
      "Feature Extraction: 100%|██████████| 40/40 [00:06<00:00,  6.17it/s]\n"
     ]
    },
    {
     "name": "stdout",
     "output_type": "stream",
     "text": [
      "current block: 3/5\n",
      "========================----------------\n"
     ]
    },
    {
     "name": "stderr",
     "output_type": "stream",
     "text": [
      "Rolling: 100%|██████████| 40/40 [00:03<00:00, 12.45it/s]\n",
      "Feature Extraction: 100%|██████████| 40/40 [00:06<00:00,  5.94it/s]\n"
     ]
    },
    {
     "name": "stdout",
     "output_type": "stream",
     "text": [
      "current block: 4/5\n",
      "================================--------\n"
     ]
    },
    {
     "name": "stderr",
     "output_type": "stream",
     "text": [
      "Rolling: 100%|██████████| 40/40 [00:03<00:00, 12.69it/s]\n",
      "Feature Extraction: 100%|██████████| 40/40 [00:06<00:00,  6.42it/s]\n"
     ]
    },
    {
     "name": "stdout",
     "output_type": "stream",
     "text": [
      "current block: 5/5\n",
      "========================================\n"
     ]
    },
    {
     "name": "stderr",
     "output_type": "stream",
     "text": [
      "Rolling: 100%|██████████| 40/40 [00:03<00:00, 13.08it/s]\n",
      "Feature Extraction: 100%|██████████| 40/40 [00:06<00:00,  5.92it/s]\n"
     ]
    },
    {
     "name": "stdout",
     "output_type": "stream",
     "text": [
      "current block: 1/5\n",
      "========--------------------------------\n"
     ]
    },
    {
     "name": "stderr",
     "output_type": "stream",
     "text": [
      "Rolling: 100%|██████████| 40/40 [00:02<00:00, 13.58it/s]\n",
      "Feature Extraction: 100%|██████████| 40/40 [00:06<00:00,  6.31it/s]\n"
     ]
    },
    {
     "name": "stdout",
     "output_type": "stream",
     "text": [
      "current block: 2/5\n",
      "================------------------------\n"
     ]
    },
    {
     "name": "stderr",
     "output_type": "stream",
     "text": [
      "Rolling: 100%|██████████| 40/40 [00:03<00:00, 12.33it/s]\n",
      "Feature Extraction: 100%|██████████| 40/40 [00:06<00:00,  5.79it/s]"
     ]
    },
    {
     "name": "stdout",
     "output_type": "stream",
     "text": [
      "current block: 3/5\n",
      "========================----------------\n"
     ]
    },
    {
     "name": "stderr",
     "output_type": "stream",
     "text": [
      "\n",
      "Rolling: 100%|██████████| 40/40 [00:03<00:00, 11.56it/s]\n",
      "Feature Extraction: 100%|██████████| 40/40 [00:07<00:00,  5.61it/s]"
     ]
    },
    {
     "name": "stdout",
     "output_type": "stream",
     "text": [
      "current block: 4/5\n",
      "================================--------\n"
     ]
    },
    {
     "name": "stderr",
     "output_type": "stream",
     "text": [
      "\n",
      "Rolling: 100%|██████████| 40/40 [00:03<00:00, 12.01it/s]\n",
      "Feature Extraction: 100%|██████████| 40/40 [00:06<00:00,  5.91it/s]"
     ]
    },
    {
     "name": "stdout",
     "output_type": "stream",
     "text": [
      "current block: 5/5\n",
      "========================================\n"
     ]
    },
    {
     "name": "stderr",
     "output_type": "stream",
     "text": [
      "\n",
      "Rolling: 100%|██████████| 40/40 [00:03<00:00, 11.71it/s]\n",
      "Feature Extraction: 100%|██████████| 40/40 [00:06<00:00,  5.79it/s]\n"
     ]
    },
    {
     "name": "stdout",
     "output_type": "stream",
     "text": [
      "current block: 1/5\n",
      "========--------------------------------\n"
     ]
    },
    {
     "name": "stderr",
     "output_type": "stream",
     "text": [
      "Rolling: 100%|██████████| 40/40 [00:03<00:00, 12.28it/s]\n",
      "Feature Extraction: 100%|██████████| 40/40 [00:07<00:00,  5.07it/s]"
     ]
    },
    {
     "name": "stdout",
     "output_type": "stream",
     "text": [
      "current block: 2/5\n",
      "================------------------------\n"
     ]
    },
    {
     "name": "stderr",
     "output_type": "stream",
     "text": [
      "\n",
      "Rolling: 100%|██████████| 40/40 [00:03<00:00, 11.68it/s]\n",
      "Feature Extraction: 100%|██████████| 40/40 [00:08<00:00,  4.95it/s]"
     ]
    },
    {
     "name": "stdout",
     "output_type": "stream",
     "text": [
      "current block: 3/5\n",
      "========================----------------\n"
     ]
    },
    {
     "name": "stderr",
     "output_type": "stream",
     "text": [
      "\n",
      "Rolling: 100%|██████████| 40/40 [00:03<00:00, 11.72it/s]\n",
      "Feature Extraction: 100%|██████████| 40/40 [00:07<00:00,  5.18it/s]\n"
     ]
    },
    {
     "name": "stdout",
     "output_type": "stream",
     "text": [
      "current block: 4/5\n",
      "================================--------\n"
     ]
    },
    {
     "name": "stderr",
     "output_type": "stream",
     "text": [
      "Rolling: 100%|██████████| 40/40 [00:03<00:00, 11.26it/s]\n",
      "Feature Extraction: 100%|██████████| 40/40 [00:07<00:00,  5.09it/s]\n"
     ]
    },
    {
     "name": "stdout",
     "output_type": "stream",
     "text": [
      "current block: 5/5\n",
      "========================================\n"
     ]
    },
    {
     "name": "stderr",
     "output_type": "stream",
     "text": [
      "Rolling: 100%|██████████| 40/40 [00:03<00:00, 11.05it/s]\n",
      "Feature Extraction: 100%|██████████| 40/40 [00:07<00:00,  5.03it/s]\n"
     ]
    },
    {
     "name": "stdout",
     "output_type": "stream",
     "text": [
      "current block: 1/5\n",
      "========--------------------------------\n"
     ]
    },
    {
     "name": "stderr",
     "output_type": "stream",
     "text": [
      "Rolling: 100%|██████████| 40/40 [00:04<00:00,  9.72it/s]\n",
      "Feature Extraction: 100%|██████████| 40/40 [00:07<00:00,  5.06it/s]\n"
     ]
    },
    {
     "name": "stdout",
     "output_type": "stream",
     "text": [
      "current block: 2/5\n",
      "================------------------------\n"
     ]
    },
    {
     "name": "stderr",
     "output_type": "stream",
     "text": [
      "Rolling: 100%|██████████| 40/40 [00:03<00:00, 11.45it/s]\n",
      "Feature Extraction: 100%|██████████| 40/40 [00:07<00:00,  5.04it/s]\n"
     ]
    },
    {
     "name": "stdout",
     "output_type": "stream",
     "text": [
      "current block: 3/5\n",
      "========================----------------\n"
     ]
    },
    {
     "name": "stderr",
     "output_type": "stream",
     "text": [
      "Rolling: 100%|██████████| 40/40 [00:03<00:00, 10.72it/s]\n",
      "Feature Extraction: 100%|██████████| 40/40 [00:08<00:00,  4.60it/s]\n"
     ]
    },
    {
     "name": "stdout",
     "output_type": "stream",
     "text": [
      "current block: 4/5\n",
      "================================--------\n"
     ]
    },
    {
     "name": "stderr",
     "output_type": "stream",
     "text": [
      "Rolling: 100%|██████████| 40/40 [00:03<00:00, 11.09it/s]\n",
      "Feature Extraction: 100%|██████████| 40/40 [00:08<00:00,  4.93it/s]\n"
     ]
    },
    {
     "name": "stdout",
     "output_type": "stream",
     "text": [
      "current block: 5/5\n",
      "========================================\n"
     ]
    },
    {
     "name": "stderr",
     "output_type": "stream",
     "text": [
      "Rolling: 100%|██████████| 40/40 [00:03<00:00, 11.46it/s]\n",
      "Feature Extraction: 100%|██████████| 40/40 [00:08<00:00,  4.84it/s]"
     ]
    },
    {
     "name": "stdout",
     "output_type": "stream",
     "text": [
      "CPU times: user 1min 31s, sys: 15.9 s, total: 1min 47s\n",
      "Wall time: 9min 52s\n"
     ]
    },
    {
     "name": "stderr",
     "output_type": "stream",
     "text": [
      "\n"
     ]
    }
   ],
   "source": [
    "%%time\n",
    "bcv_blocks_dict = {}\n",
    "all_names = top_currencies + [TARGET_NAME]\n",
    "all_dfs = list_top_currencies + [target_table]\n",
    "for i, df in enumerate(all_dfs):\n",
    "    bcv_blocks_dict[all_names[i]] = extraction_utils.bcv_extract_features(\n",
    "        df=df.loc[index],\n",
    "        n_blocks=5,\n",
    "        target_col=f'({all_names[i]}) price_mean',\n",
    "        n_windows=1500,\n",
    "        window_size=200,\n",
    "        lags=[1],\n",
    "        n_jobs=8,\n",
    "        mode='parallel',\n",
    "        fc_parameters=fc_parameters['price_mean'])"
   ]
  },
  {
   "cell_type": "code",
   "execution_count": 18,
   "id": "b2cfddf1",
   "metadata": {},
   "outputs": [],
   "source": [
    "# remove common columns (time features) and data from the future (target col)\n",
    "need_to_delete = ['hour', 'min', 'sec', 'ms', 'target']\n",
    "for name in top_currencies:\n",
    "    for i in range(5): # 5 = n_blocks\n",
    "        for col in need_to_delete:\n",
    "            if col in bcv_blocks_dict[name][i]:\n",
    "                bcv_blocks_dict[name][i] = bcv_blocks_dict[name][i].drop([col], axis=1)\n",
    "        bcv_blocks_dict[name][i].rename(columns={'price_lag1': f'({name} )price_mean_lag1'}, inplace=True)       "
   ]
  },
  {
   "cell_type": "code",
   "execution_count": 19,
   "id": "d44bdd6c",
   "metadata": {},
   "outputs": [
    {
     "name": "stderr",
     "output_type": "stream",
     "text": [
      "Using `tqdm.autonotebook.tqdm` in notebook mode. Use `tqdm.tqdm` instead to force console mode (e.g. in jupyter console)\n"
     ]
    }
   ],
   "source": [
    "import selection_utils\n",
    "from typing import List\n",
    "import xgboost\n",
    "from xgboost import XGBRegressor"
   ]
  },
  {
   "cell_type": "code",
   "execution_count": 20,
   "id": "ae661749",
   "metadata": {},
   "outputs": [],
   "source": [
    "def get_rmse(\n",
    "        models: List[xgboost.sklearn.XGBRegressor],\n",
    "        test_list: List[pd.DataFrame]\n",
    ") -> List[List[float]]:\n",
    "    \"\"\"\n",
    "    Predictions are made for each model in the `models` and the corresponding\n",
    "    training dataset. Then rmse are calculated for all lengths of the\n",
    "    prediction horizon from 1 to `len(test_list)`. That is, we look at the\n",
    "    rmse of the predictions for the next `300ms`, the next `600ms`, and so on.  \n",
    "    \n",
    "    :param models: list of trained XGBRegressors\n",
    "    :param test_list: test data list\n",
    "    :return: list containing the list with rmse for all prediction horizons\n",
    "    \"\"\"\n",
    "    assert len(models) == len(test_list), f'len(models)={len(models)}!={len(test_list)}=len(test_list)!'\n",
    "\n",
    "    length = test_list[0].shape[0]\n",
    "\n",
    "    losses = []\n",
    "    for i, model in enumerate(models):\n",
    "        losses.append([])\n",
    "        x, y = test_list[i].drop(['target'], axis=1), test_list[i].loc[:, 'target']\n",
    "        mse = .0\n",
    "        for l in range(length):\n",
    "            y_hat = model.predict(x.iloc[l:l + 1])\n",
    "            mse += (y_hat - y.iloc[l]) ** 2\n",
    "            losses[-1].append(np.sqrt(mse / (l + 1)))\n",
    "\n",
    "    return losses"
   ]
  },
  {
   "cell_type": "code",
   "execution_count": null,
   "id": "fc2adf83",
   "metadata": {
    "scrolled": false
   },
   "outputs": [],
   "source": [
    "%%time\n",
    "# only target table available\n",
    "test_size = 20\n",
    "n_jobs = 8\n",
    "train, test = [], []\n",
    "for i in range(5):\n",
    "    train.append(bcv_blocks_dict[TARGET_NAME][i].iloc[:-test_size])\n",
    "    test.append(bcv_blocks_dict[TARGET_NAME][i].iloc[-test_size:])\n",
    "    \n",
    "start_time = time.time()   \n",
    "models = selection_utils.get_fitted_models(train, n_jobs)\n",
    "only_target_time = time.time() - start_time\n",
    "\n",
    "only_target_rmse = get_rmse(models, test)"
   ]
  },
  {
   "cell_type": "code",
   "execution_count": null,
   "id": "79d80fc7",
   "metadata": {
    "scrolled": false
   },
   "outputs": [],
   "source": [
    "%%time\n",
    "# all other tables are available\n",
    "test_size = 20\n",
    "train, test = [], []\n",
    "for i in range(5):\n",
    "    train.append(pd.concat([bcv_blocks_dict[name][i].iloc[:-test_size] for name in [TARGET_NAME]+top_currencies], axis=1))\n",
    "    test.append(pd.concat([bcv_blocks_dict[name][i].iloc[-test_size:] for name in [TARGET_NAME]+top_currencies], axis=1))\n",
    "    \n",
    "start_time = time.time()\n",
    "models = selection_utils.get_fitted_models(train, n_jobs)\n",
    "with_other_tables_time = time.time() - start_time\n",
    "\n",
    "with_other_tables_rmse = get_rmse(models, test)"
   ]
  },
  {
   "cell_type": "code",
   "execution_count": 23,
   "id": "407a21d8",
   "metadata": {},
   "outputs": [
    {
     "data": {
      "text/plain": [
       "449"
      ]
     },
     "execution_count": 23,
     "metadata": {},
     "output_type": "execute_result"
    }
   ],
   "source": [
    "len(train[0].columns)"
   ]
  },
  {
   "cell_type": "code",
   "execution_count": 25,
   "id": "e7be93ac",
   "metadata": {},
   "outputs": [],
   "source": [
    "# we also can select most important features\n",
    "importances = selection_utils.get_importance(models, train, mode='all')\n",
    "selected_features = [el[0] for el in selection_utils.importance_select_features(importances, 0.8)][:35]"
   ]
  },
  {
   "cell_type": "code",
   "execution_count": 26,
   "id": "18a8a124",
   "metadata": {
    "scrolled": false
   },
   "outputs": [
    {
     "data": {
      "text/plain": [
       "35"
      ]
     },
     "execution_count": 26,
     "metadata": {},
     "output_type": "execute_result"
    }
   ],
   "source": [
    "len(selected_features)"
   ]
  },
  {
   "cell_type": "code",
   "execution_count": null,
   "id": "df16da9c",
   "metadata": {
    "scrolled": false
   },
   "outputs": [],
   "source": [
    "%%time\n",
    "# with selected features from other tables\n",
    "\n",
    "test_size = 20\n",
    "train, test = [], []\n",
    "for i in range(5):\n",
    "    train.append(pd.concat([bcv_blocks_dict[name][i].iloc[:-test_size] for name in [TARGET_NAME]+top_currencies], axis=1))\n",
    "    test.append(pd.concat([bcv_blocks_dict[name][i].iloc[-test_size:] for name in [TARGET_NAME]+top_currencies], axis=1))\n",
    "\n",
    "train = [df[selected_features + ['target']] for df in train]\n",
    "test = [df[selected_features + ['target']] for df in test]\n",
    "\n",
    "start_time = time.time()\n",
    "models = selection_utils.get_fitted_models(train, n_jobs)\n",
    "with_selected_features_time = time.time() - start_time\n",
    "\n",
    "with_selected_features_rmse = get_rmse(models, test)"
   ]
  },
  {
   "cell_type": "markdown",
   "id": "a46d9e71",
   "metadata": {},
   "source": [
    "### Let's calculate rmse and summarize"
   ]
  },
  {
   "cell_type": "code",
   "execution_count": 28,
   "id": "310d5a2e",
   "metadata": {},
   "outputs": [],
   "source": [
    "# average of all models\n",
    "avg_only_target_rmse = np.hstack(only_target_rmse).mean(axis=1)\n",
    "avg_with_other_tables_rmse = np.hstack(with_other_tables_rmse).mean(axis=1)\n",
    "avg_with_selected_features_rmse = np.hstack(with_selected_features_rmse).mean(axis=1)\n",
    "\n",
    "\n",
    "# average of all prediction lengths\n",
    "global_only_target_rmse = avg_only_target_rmse.mean()\n",
    "global_with_other_tables_rmse = avg_with_other_tables_rmse.mean()\n",
    "global_with_selected_features_rmse = avg_with_selected_features_rmse.mean()"
   ]
  },
  {
   "cell_type": "code",
   "execution_count": null,
   "id": "6fa156cf",
   "metadata": {},
   "outputs": [],
   "source": [
    "# summarize\n",
    "rmses = [f'RMSE l={i}' for i in range(1,21)]\n",
    "results = pd.DataFrame(columns = ['Time (s)', 'RMSE mean'] + rmses)\n",
    "\n",
    "num_models = 24\n",
    "\n",
    "results.loc['only target table'] = [only_target_time/5]+[global_only_target_rmse]+list(avg_only_target_rmse)\n",
    "results.loc['with the features of other tables'] = [with_other_tables_time/5]+[global_with_other_tables_rmse]+list(avg_with_other_tables_rmse)\n",
    "results.loc['with selected features of other tables'] = [with_selected_features_time/5]+[global_with_selected_features_rmse]+list(avg_with_selected_features_rmse)\n",
    "\n",
    "\n",
    "results.values[:] = results.values.round(3)\n",
    "results['Time (s)'] = results['Time (s)'].round(2)\n",
    "\n",
    "results.to_csv('../docs/tables/selection_features_results.csv')\n",
    "results"
   ]
  },
  {
   "cell_type": "markdown",
   "id": "9f7df1cf",
   "metadata": {},
   "source": [
    "**Results**\n",
    "\n",
    "In the situation when we leave the features of all correlated currencies, the model learning time increases by `7.7` times, and the quality of the model improves by `19%`!\n",
    "\n",
    "After that we want to reduce the learning time of the model by additional selection by `feature_importance`. \n",
    "This selection allows us to reduce the training time by a factor of `10`, while losing only `8.3%` in accuracy.\n",
    "\n",
    "Compared to the situation where we only use target currency data, we have an \n",
    "\n",
    "- `24%` speedup \n",
    "- `12%` increase in accuracy"
   ]
  },
  {
   "cell_type": "markdown",
   "id": "e1f3bf19",
   "metadata": {},
   "source": [
    "# Conclusions"
   ]
  },
  {
   "cell_type": "code",
   "execution_count": 28,
   "id": "772c315b",
   "metadata": {},
   "outputs": [],
   "source": [
    "most_important_currencies = set()\n",
    "\n",
    "for name in selected_features:\n",
    "    right_id = name.find(') ')\n",
    "    left_id = name.find('(')\n",
    "    if right_id - left_id > 4:\n",
    "        most_important_currencies.add(name[left_id + 1 : right_id])\n",
    "        \n",
    "# we already have \"CHZ_USDT_PERP_MIDPRICE\" currency\n",
    "most_important_currencies.remove('CHZ_USDT_PERP')"
   ]
  },
  {
   "cell_type": "code",
   "execution_count": 29,
   "id": "90118347",
   "metadata": {},
   "outputs": [],
   "source": [
    "from collections import defaultdict\n",
    "import re"
   ]
  },
  {
   "cell_type": "code",
   "execution_count": 30,
   "id": "de25daee",
   "metadata": {},
   "outputs": [],
   "source": [
    "factorized_features = defaultdict(list)\n",
    "for name in selected_features:\n",
    "    for feature in most_important_currencies:       \n",
    "        if feature in name:\n",
    "            remove_feature_name = re.sub(f'\\({feature}\\)', '', name)\n",
    "            remove_price_mean = re.sub(f'price_mean__', '', remove_feature_name)\n",
    "            factorized_features[feature].append(remove_price_mean)"
   ]
  },
  {
   "cell_type": "code",
   "execution_count": 31,
   "id": "7bd95576",
   "metadata": {},
   "outputs": [
    {
     "name": "stdout",
     "output_type": "stream",
     "text": [
      "Features for \"CHZ_USDT_PERP_MIDPRICE\" currency:\n",
      "*    price_mean\n",
      "*    mean_second_derivative_central\n",
      "*    skewness\n",
      "*    partial_autocorrelation__lag_3\n",
      "*    cwt_coefficients__coeff_0__w_2__widths_(2, 5, 10, 20)\n",
      "*    fft_coefficient__attr_\"imag\"__coeff_70\n",
      "*    friedrich_coefficients__coeff_3__m_3__r_30\n",
      "------------------------------------------------------------\n",
      "Features for \"DOGE_USDT_PERP\" currency:\n",
      "*    skewness\n",
      "*    cwt_coefficients__coeff_0__w_2__widths_(2, 5, 10, 20)\n",
      "------------------------------------------------------------\n",
      "Features for \"AVAX_USDT_PERP\" currency:\n",
      "*    skewness\n",
      "*    mean_second_derivative_central\n",
      "*    fft_coefficient__attr_\"imag\"__coeff_70\n",
      "------------------------------------------------------------\n",
      "Features for \"ETH_BUSD_PERP\" currency:\n",
      "*    partial_autocorrelation__lag_3\n",
      "*    price_std\n",
      "------------------------------------------------------------\n",
      "Features for \"BTC_USDT_PERP\" currency:\n",
      "*    price_std\n",
      "*    fft_coefficient__attr_\"imag\"__coeff_70\n",
      "*    buy_price_sum\n",
      "*    sell_price_sum\n",
      "------------------------------------------------------------\n",
      "Features for \"BTC_BUSD_PERP\" currency:\n",
      "*    mean_second_derivative_central\n",
      "*    partial_autocorrelation__lag_3\n",
      "------------------------------------------------------------\n",
      "Features for \"ETC_USDT_PERP\" currency:\n",
      "*    mean_second_derivative_central\n",
      "*    price_std\n",
      "------------------------------------------------------------\n",
      "Features for \"ETH_USDT_PERP\" currency:\n",
      "*    partial_autocorrelation__lag_3\n",
      "*    buy_price_sum\n",
      "*    sell_price_sum\n",
      "------------------------------------------------------------\n",
      "Features for \"BNB_USDT_PERP\" currency:\n",
      "*    binned_entropy__max_bins_10\n",
      "*    partial_autocorrelation__lag_3\n",
      "------------------------------------------------------------\n"
     ]
    }
   ],
   "source": [
    "for key in factorized_features.keys():\n",
    "    print(f'Features for \"{key}\" currency:')\n",
    "    for el in factorized_features[key]:\n",
    "        print('*  ', el)\n",
    "    print('-' * 60)"
   ]
  },
  {
   "cell_type": "markdown",
   "id": "b9e67ca8",
   "metadata": {},
   "source": [
    "We see that for the currency series (`\"DOGE_USDT_PERP\"`, `\"CHZ_USDT_PERP_MIDPRICE\"`) it is useful to know the coefficients in the **Ricker's basis wavelet** decomposition. Unlike Fourier analysis, wavelet analysis is capable of capturing local aspects of the series. The coefficient numbers in the feature names should be treated with caution - all the importance of the features have been averaged by block cross validation. \n",
    "\n",
    "At the same time it is useful to have the **coefficients** of decomposition in a **Fourier** series (`\"CHZ_USDT_PERP_MIDPRICE\"`, `\"AVAX_USDT_PERP\"`, `\"BTC_USDT_PERP\"`)\n",
    "\n",
    "A measure of the asymmetry of the value distribution also proved useful for currencies `\"CHZ_USDT_PERP_MIDPRICE\"`, `\"DOGE_USDT_PERP\"`, `\"AVAX_USDT_PERP\"`).\n",
    "\n",
    "Finally, the **volume of purchases and sales** is important `\"ETH_USDT_PERP\"`, `\"BTC_USDT_PERP\"` and some other characteristics (**autocorrelation coefficients** and **variance value**)"
   ]
  },
  {
   "cell_type": "markdown",
   "id": "f994a693",
   "metadata": {},
   "source": [
    "For a detailed look at the complete solution scheme, you can read the **DOCS** and look at the `toy_example` notebook, which explains some functions on the toy example."
   ]
  }
 ],
 "metadata": {
  "kernelspec": {
   "display_name": "Python 3 (ipykernel)",
   "language": "python",
   "name": "python3"
  },
  "language_info": {
   "codemirror_mode": {
    "name": "ipython",
    "version": 3
   },
   "file_extension": ".py",
   "mimetype": "text/x-python",
   "name": "python",
   "nbconvert_exporter": "python",
   "pygments_lexer": "ipython3",
   "version": "3.12.0"
  }
 },
 "nbformat": 4,
 "nbformat_minor": 5
}
