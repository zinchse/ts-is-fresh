{
 "cells": [
  {
   "cell_type": "markdown",
   "id": "9dec3608",
   "metadata": {},
   "source": [
    "In this notebook, our objective is to download the raw data and create separate tables for each currency, containing their respective price histories. Subsequently, we will perform data quantization using a ``300ms`` window and apply various aggregation functions. The quantized values will be saved in the ``data/quantized`` directory for further analysis and processing."
   ]
  },
  {
   "cell_type": "markdown",
   "id": "803eb8f5",
   "metadata": {},
   "source": [
    "# Start \n",
    "### raw data loading and initial analysis"
   ]
  },
  {
   "cell_type": "code",
   "execution_count": 1,
   "id": "4b990b4e",
   "metadata": {},
   "outputs": [],
   "source": [
    "import sys\n",
    "import pickle\n",
    "import pandas as pd\n",
    "import numpy as np\n",
    "from multiprocessing import Pool"
   ]
  },
  {
   "cell_type": "code",
   "execution_count": 2,
   "id": "fc0b9d53",
   "metadata": {},
   "outputs": [],
   "source": [
    "sys.path.append('../src')"
   ]
  },
  {
   "cell_type": "code",
   "execution_count": 3,
   "id": "6f26492e",
   "metadata": {},
   "outputs": [],
   "source": [
    "PATH_FROM = '../data/raw/'\n",
    "TARGET_SHORT_NAME = 'chz_usdt_perp_midprice_v2_short.pkl'\n",
    "DATA_SHORT_NAME = 'trades_v2_short.pkl'\n",
    "TARGET_NAME = 'CHZ_USDT_PERP_MIDPRICE'"
   ]
  },
  {
   "cell_type": "code",
   "execution_count": 4,
   "id": "fc707023",
   "metadata": {},
   "outputs": [
    {
     "name": "stdout",
     "output_type": "stream",
     "text": [
      "CPU times: user 1.81 s, sys: 1.3 s, total: 3.11 s\n",
      "Wall time: 3.4 s\n"
     ]
    }
   ],
   "source": [
    "%%time\n",
    "target = pickle.load(open(PATH_FROM + TARGET_SHORT_NAME, 'rb'))\n",
    "df = pickle.load(open(PATH_FROM + DATA_SHORT_NAME, 'rb'))"
   ]
  },
  {
   "cell_type": "code",
   "execution_count": 5,
   "id": "38bb02f7",
   "metadata": {
    "scrolled": true
   },
   "outputs": [
    {
     "data": {
      "text/html": [
       "<div>\n",
       "<style scoped>\n",
       "    .dataframe tbody tr th:only-of-type {\n",
       "        vertical-align: middle;\n",
       "    }\n",
       "\n",
       "    .dataframe tbody tr th {\n",
       "        vertical-align: top;\n",
       "    }\n",
       "\n",
       "    .dataframe thead th {\n",
       "        text-align: right;\n",
       "    }\n",
       "</style>\n",
       "<table border=\"1\" class=\"dataframe\">\n",
       "  <thead>\n",
       "    <tr style=\"text-align: right;\">\n",
       "      <th></th>\n",
       "      <th>CHZ_USDT_PERP_MIDPRICE</th>\n",
       "    </tr>\n",
       "  </thead>\n",
       "  <tbody>\n",
       "    <tr>\n",
       "      <th>count</th>\n",
       "      <td>2.372317e+06</td>\n",
       "    </tr>\n",
       "    <tr>\n",
       "      <th>mean</th>\n",
       "      <td>2.099565e-01</td>\n",
       "    </tr>\n",
       "    <tr>\n",
       "      <th>std</th>\n",
       "      <td>9.363737e-03</td>\n",
       "    </tr>\n",
       "    <tr>\n",
       "      <th>min</th>\n",
       "      <td>1.936200e-01</td>\n",
       "    </tr>\n",
       "    <tr>\n",
       "      <th>25%</th>\n",
       "      <td>2.009650e-01</td>\n",
       "    </tr>\n",
       "    <tr>\n",
       "      <th>50%</th>\n",
       "      <td>2.110900e-01</td>\n",
       "    </tr>\n",
       "    <tr>\n",
       "      <th>75%</th>\n",
       "      <td>2.182400e-01</td>\n",
       "    </tr>\n",
       "    <tr>\n",
       "      <th>max</th>\n",
       "      <td>2.283800e-01</td>\n",
       "    </tr>\n",
       "  </tbody>\n",
       "</table>\n",
       "</div>"
      ],
      "text/plain": [
       "       CHZ_USDT_PERP_MIDPRICE\n",
       "count            2.372317e+06\n",
       "mean             2.099565e-01\n",
       "std              9.363737e-03\n",
       "min              1.936200e-01\n",
       "25%              2.009650e-01\n",
       "50%              2.110900e-01\n",
       "75%              2.182400e-01\n",
       "max              2.283800e-01"
      ]
     },
     "execution_count": 5,
     "metadata": {},
     "output_type": "execute_result"
    }
   ],
   "source": [
    "target.describe()"
   ]
  },
  {
   "cell_type": "code",
   "execution_count": 6,
   "id": "fa1a65b2",
   "metadata": {
    "scrolled": true
   },
   "outputs": [
    {
     "data": {
      "text/html": [
       "<div>\n",
       "<style scoped>\n",
       "    .dataframe tbody tr th:only-of-type {\n",
       "        vertical-align: middle;\n",
       "    }\n",
       "\n",
       "    .dataframe tbody tr th {\n",
       "        vertical-align: top;\n",
       "    }\n",
       "\n",
       "    .dataframe thead th {\n",
       "        text-align: right;\n",
       "    }\n",
       "</style>\n",
       "<table border=\"1\" class=\"dataframe\">\n",
       "  <thead>\n",
       "    <tr style=\"text-align: right;\">\n",
       "      <th></th>\n",
       "      <th>CHZ_USDT_PERP_MIDPRICE</th>\n",
       "    </tr>\n",
       "  </thead>\n",
       "  <tbody>\n",
       "    <tr>\n",
       "      <th>2022-11-15 00:00:00.029243</th>\n",
       "      <td>0.198425</td>\n",
       "    </tr>\n",
       "    <tr>\n",
       "      <th>2022-11-15 00:00:00.251378</th>\n",
       "      <td>0.198410</td>\n",
       "    </tr>\n",
       "    <tr>\n",
       "      <th>2022-11-15 00:00:00.252974</th>\n",
       "      <td>0.198395</td>\n",
       "    </tr>\n",
       "  </tbody>\n",
       "</table>\n",
       "</div>"
      ],
      "text/plain": [
       "                            CHZ_USDT_PERP_MIDPRICE\n",
       "2022-11-15 00:00:00.029243                0.198425\n",
       "2022-11-15 00:00:00.251378                0.198410\n",
       "2022-11-15 00:00:00.252974                0.198395"
      ]
     },
     "execution_count": 6,
     "metadata": {},
     "output_type": "execute_result"
    }
   ],
   "source": [
    "target.head(3)"
   ]
  },
  {
   "cell_type": "code",
   "execution_count": 7,
   "id": "ca0f1100",
   "metadata": {},
   "outputs": [
    {
     "data": {
      "text/plain": [
       "<AxesSubplot: title={'center': 'TARGET CURRENCY'}, xlabel='TIME', ylabel='MIDPRICE'>"
      ]
     },
     "execution_count": 7,
     "metadata": {},
     "output_type": "execute_result"
    },
    {
     "data": {
      "image/png": "[encoded data removed]",
      "text/plain": [
       "<Figure size 1800x1200 with 1 Axes>"
      ]
     },
     "metadata": {},
     "output_type": "display_data"
    }
   ],
   "source": [
    "target.plot(y='CHZ_USDT_PERP_MIDPRICE', figsize=(18,12), title='TARGET CURRENCY', ylabel='MIDPRICE', xlabel='TIME')"
   ]
  },
  {
   "cell_type": "markdown",
   "id": "451b988f",
   "metadata": {},
   "source": [
    "**Fig.1. We see that the data is for November 15. During the day there is a linear increase in price, but around 16:00 there is an anomalous jump.**"
   ]
  },
  {
   "cell_type": "code",
   "execution_count": 8,
   "id": "7ef54cdc",
   "metadata": {},
   "outputs": [
    {
     "name": "stdout",
     "output_type": "stream",
     "text": [
      "The size of target table is 2372317\n"
     ]
    }
   ],
   "source": [
    "print(f'The size of target table is {target.shape[0]}')"
   ]
  },
  {
   "cell_type": "code",
   "execution_count": 9,
   "id": "5aa7e230",
   "metadata": {
    "scrolled": true
   },
   "outputs": [
    {
     "data": {
      "text/html": [
       "<div>\n",
       "<style scoped>\n",
       "    .dataframe tbody tr th:only-of-type {\n",
       "        vertical-align: middle;\n",
       "    }\n",
       "\n",
       "    .dataframe tbody tr th {\n",
       "        vertical-align: top;\n",
       "    }\n",
       "\n",
       "    .dataframe thead th {\n",
       "        text-align: right;\n",
       "    }\n",
       "</style>\n",
       "<table border=\"1\" class=\"dataframe\">\n",
       "  <thead>\n",
       "    <tr style=\"text-align: right;\">\n",
       "      <th></th>\n",
       "      <th>price</th>\n",
       "      <th>quantity</th>\n",
       "    </tr>\n",
       "  </thead>\n",
       "  <tbody>\n",
       "    <tr>\n",
       "      <th>count</th>\n",
       "      <td>5.054018e+07</td>\n",
       "      <td>5.054018e+07</td>\n",
       "    </tr>\n",
       "    <tr>\n",
       "      <th>mean</th>\n",
       "      <td>1.933923e+03</td>\n",
       "      <td>2.593011e+03</td>\n",
       "    </tr>\n",
       "    <tr>\n",
       "      <th>std</th>\n",
       "      <td>5.120755e+03</td>\n",
       "      <td>2.991904e+04</td>\n",
       "    </tr>\n",
       "    <tr>\n",
       "      <th>min</th>\n",
       "      <td>6.500000e-04</td>\n",
       "      <td>1.000000e-03</td>\n",
       "    </tr>\n",
       "    <tr>\n",
       "      <th>25%</th>\n",
       "      <td>3.146000e-01</td>\n",
       "      <td>1.400000e+00</td>\n",
       "    </tr>\n",
       "    <tr>\n",
       "      <th>50%</th>\n",
       "      <td>2.011000e+00</td>\n",
       "      <td>4.200000e+01</td>\n",
       "    </tr>\n",
       "    <tr>\n",
       "      <th>75%</th>\n",
       "      <td>1.202100e+02</td>\n",
       "      <td>4.520000e+02</td>\n",
       "    </tr>\n",
       "    <tr>\n",
       "      <th>max</th>\n",
       "      <td>1.712720e+04</td>\n",
       "      <td>4.000000e+07</td>\n",
       "    </tr>\n",
       "  </tbody>\n",
       "</table>\n",
       "</div>"
      ],
      "text/plain": [
       "              price      quantity\n",
       "count  5.054018e+07  5.054018e+07\n",
       "mean   1.933923e+03  2.593011e+03\n",
       "std    5.120755e+03  2.991904e+04\n",
       "min    6.500000e-04  1.000000e-03\n",
       "25%    3.146000e-01  1.400000e+00\n",
       "50%    2.011000e+00  4.200000e+01\n",
       "75%    1.202100e+02  4.520000e+02\n",
       "max    1.712720e+04  4.000000e+07"
      ]
     },
     "execution_count": 9,
     "metadata": {},
     "output_type": "execute_result"
    }
   ],
   "source": [
    "df.describe()"
   ]
  },
  {
   "cell_type": "code",
   "execution_count": 10,
   "id": "a560fc00",
   "metadata": {
    "scrolled": true
   },
   "outputs": [
    {
     "data": {
      "text/html": [
       "<div>\n",
       "<style scoped>\n",
       "    .dataframe tbody tr th:only-of-type {\n",
       "        vertical-align: middle;\n",
       "    }\n",
       "\n",
       "    .dataframe tbody tr th {\n",
       "        vertical-align: top;\n",
       "    }\n",
       "\n",
       "    .dataframe thead th {\n",
       "        text-align: right;\n",
       "    }\n",
       "</style>\n",
       "<table border=\"1\" class=\"dataframe\">\n",
       "  <thead>\n",
       "    <tr style=\"text-align: right;\">\n",
       "      <th></th>\n",
       "      <th>event_time</th>\n",
       "      <th>ex_time</th>\n",
       "      <th>price</th>\n",
       "      <th>quantity</th>\n",
       "      <th>is_buy</th>\n",
       "      <th>symbol</th>\n",
       "    </tr>\n",
       "  </thead>\n",
       "  <tbody>\n",
       "    <tr>\n",
       "      <th>0</th>\n",
       "      <td>2022-11-15 00:00:00.287594</td>\n",
       "      <td>2022-11-15 00:00:00.282</td>\n",
       "      <td>0.1735</td>\n",
       "      <td>441.0</td>\n",
       "      <td>1</td>\n",
       "      <td>1000LUNC_USDT_PERP</td>\n",
       "    </tr>\n",
       "    <tr>\n",
       "      <th>1</th>\n",
       "      <td>2022-11-15 00:00:00.287614</td>\n",
       "      <td>2022-11-15 00:00:00.282</td>\n",
       "      <td>0.1735</td>\n",
       "      <td>31.0</td>\n",
       "      <td>1</td>\n",
       "      <td>1000LUNC_USDT_PERP</td>\n",
       "    </tr>\n",
       "    <tr>\n",
       "      <th>2</th>\n",
       "      <td>2022-11-15 00:00:00.287620</td>\n",
       "      <td>2022-11-15 00:00:00.282</td>\n",
       "      <td>0.1735</td>\n",
       "      <td>355.0</td>\n",
       "      <td>1</td>\n",
       "      <td>1000LUNC_USDT_PERP</td>\n",
       "    </tr>\n",
       "    <tr>\n",
       "      <th>3</th>\n",
       "      <td>2022-11-15 00:00:00.287784</td>\n",
       "      <td>2022-11-15 00:00:00.283</td>\n",
       "      <td>0.1735</td>\n",
       "      <td>1023.0</td>\n",
       "      <td>1</td>\n",
       "      <td>1000LUNC_USDT_PERP</td>\n",
       "    </tr>\n",
       "    <tr>\n",
       "      <th>4</th>\n",
       "      <td>2022-11-15 00:00:00.292314</td>\n",
       "      <td>2022-11-15 00:00:00.287</td>\n",
       "      <td>0.1735</td>\n",
       "      <td>498.0</td>\n",
       "      <td>1</td>\n",
       "      <td>1000LUNC_USDT_PERP</td>\n",
       "    </tr>\n",
       "    <tr>\n",
       "      <th>5</th>\n",
       "      <td>2022-11-15 00:00:00.292349</td>\n",
       "      <td>2022-11-15 00:00:00.287</td>\n",
       "      <td>0.1735</td>\n",
       "      <td>35.0</td>\n",
       "      <td>1</td>\n",
       "      <td>1000LUNC_USDT_PERP</td>\n",
       "    </tr>\n",
       "    <tr>\n",
       "      <th>6</th>\n",
       "      <td>2022-11-15 00:00:05.841978</td>\n",
       "      <td>2022-11-15 00:00:04.410</td>\n",
       "      <td>0.1736</td>\n",
       "      <td>103.0</td>\n",
       "      <td>1</td>\n",
       "      <td>1000LUNC_USDT_PERP</td>\n",
       "    </tr>\n",
       "  </tbody>\n",
       "</table>\n",
       "</div>"
      ],
      "text/plain": [
       "                  event_time                 ex_time   price  quantity is_buy  \\\n",
       "0 2022-11-15 00:00:00.287594 2022-11-15 00:00:00.282  0.1735     441.0      1   \n",
       "1 2022-11-15 00:00:00.287614 2022-11-15 00:00:00.282  0.1735      31.0      1   \n",
       "2 2022-11-15 00:00:00.287620 2022-11-15 00:00:00.282  0.1735     355.0      1   \n",
       "3 2022-11-15 00:00:00.287784 2022-11-15 00:00:00.283  0.1735    1023.0      1   \n",
       "4 2022-11-15 00:00:00.292314 2022-11-15 00:00:00.287  0.1735     498.0      1   \n",
       "5 2022-11-15 00:00:00.292349 2022-11-15 00:00:00.287  0.1735      35.0      1   \n",
       "6 2022-11-15 00:00:05.841978 2022-11-15 00:00:04.410  0.1736     103.0      1   \n",
       "\n",
       "               symbol  \n",
       "0  1000LUNC_USDT_PERP  \n",
       "1  1000LUNC_USDT_PERP  \n",
       "2  1000LUNC_USDT_PERP  \n",
       "3  1000LUNC_USDT_PERP  \n",
       "4  1000LUNC_USDT_PERP  \n",
       "5  1000LUNC_USDT_PERP  \n",
       "6  1000LUNC_USDT_PERP  "
      ]
     },
     "execution_count": 10,
     "metadata": {},
     "output_type": "execute_result"
    }
   ],
   "source": [
    "df.head(7)"
   ]
  },
  {
   "cell_type": "code",
   "execution_count": 11,
   "id": "9de2a992",
   "metadata": {},
   "outputs": [
    {
     "name": "stdout",
     "output_type": "stream",
     "text": [
      "The size of trades table is 50540181\n"
     ]
    }
   ],
   "source": [
    "print(f'The size of trades table is {df.shape[0]}')"
   ]
  },
  {
   "cell_type": "code",
   "execution_count": 12,
   "id": "9c5b986e",
   "metadata": {
    "scrolled": true
   },
   "outputs": [
    {
     "name": "stdout",
     "output_type": "stream",
     "text": [
      "The number of unique currencies 175\n",
      "The first 3 of them:\n",
      "1000LUNC_USDT_PERP\n",
      "1000SHIB_USDT_PERP\n",
      "1000XEC_USDT_PERP\n"
     ]
    }
   ],
   "source": [
    "names = df['symbol'].unique()\n",
    "print(f'The number of unique currencies {len(names)}\\nThe first 3 of them:')\n",
    "for name in names[:3]:\n",
    "    print(name)"
   ]
  },
  {
   "cell_type": "markdown",
   "id": "18baf386",
   "metadata": {},
   "source": [
    "We can see that the number of unique currencies is **very high**. To do this, let's save the information for each of them in **separate** tables.\n",
    "\n",
    "Some functions have been implemented inside the `preprocessing_utils` module. \n",
    "Let's use them. "
   ]
  },
  {
   "cell_type": "code",
   "execution_count": 13,
   "id": "b91603c1",
   "metadata": {},
   "outputs": [],
   "source": [
    "import preprocessing_utils"
   ]
  },
  {
   "cell_type": "code",
   "execution_count": 14,
   "id": "98245f51",
   "metadata": {},
   "outputs": [
    {
     "name": "stdout",
     "output_type": "stream",
     "text": [
      "Help on function separate_and_save in module preprocessing_utils:\n",
      "\n",
      "separate_and_save(df: pandas.core.frame.DataFrame, names: List[str], sep_col: str = 'symbol', path_to_save: str = 'data/') -> None\n",
      "    Splits the table into several small tables according to the value\n",
      "    of the 'sep_col' column.\n",
      "    \n",
      "    :param df: a large table, which must be divided into several smaller ones\n",
      "    :param names: the values of the 'sep_col' column for which the tables\n",
      "    are to be saved\n",
      "    :param sep_col: the name of the column by which we want to split the table\n",
      "    :param path_to_save: the address where we want to save the tables\n",
      "    :return: nothing is returned, separated tables by 'sep_col' column values\n",
      "    from the 'names' list are saved to the address 'path_to_save' in csv format\n",
      "\n"
     ]
    }
   ],
   "source": [
    "help(preprocessing_utils.separate_and_save)"
   ]
  },
  {
   "cell_type": "code",
   "execution_count": 15,
   "id": "f7176223",
   "metadata": {},
   "outputs": [
    {
     "name": "stdout",
     "output_type": "stream",
     "text": [
      "CPU times: user 5min 22s, sys: 5.33 s, total: 5min 27s\n",
      "Wall time: 5min 31s\n"
     ]
    }
   ],
   "source": [
    "%%time\n",
    "pd.options.mode.chained_assignment = None\n",
    "preprocessing_utils.separate_and_save(df=df,\n",
    "                                names=names,\n",
    "                                sep_col='symbol',\n",
    "                                path_to_save='../data/separated')"
   ]
  },
  {
   "cell_type": "markdown",
   "id": "f8ed86a5",
   "metadata": {},
   "source": [
    "# Quantization\n",
    "### reduce the size of the data by aggregating the information over some time interval"
   ]
  },
  {
   "cell_type": "code",
   "execution_count": 16,
   "id": "c2b8994d",
   "metadata": {},
   "outputs": [],
   "source": [
    "separated_df_dict = preprocessing_utils.load_tables(names=names,\n",
    "                                              path_from='../data/separated')"
   ]
  },
  {
   "cell_type": "code",
   "execution_count": 17,
   "id": "ee598d7d",
   "metadata": {},
   "outputs": [
    {
     "data": {
      "text/html": [
       "<div>\n",
       "<style scoped>\n",
       "    .dataframe tbody tr th:only-of-type {\n",
       "        vertical-align: middle;\n",
       "    }\n",
       "\n",
       "    .dataframe tbody tr th {\n",
       "        vertical-align: top;\n",
       "    }\n",
       "\n",
       "    .dataframe thead th {\n",
       "        text-align: right;\n",
       "    }\n",
       "</style>\n",
       "<table border=\"1\" class=\"dataframe\">\n",
       "  <thead>\n",
       "    <tr style=\"text-align: right;\">\n",
       "      <th></th>\n",
       "      <th>ex_time</th>\n",
       "      <th>price</th>\n",
       "      <th>quantity</th>\n",
       "      <th>is_buy</th>\n",
       "      <th>symbol</th>\n",
       "      <th>money_buy</th>\n",
       "      <th>money_sell</th>\n",
       "      <th>is_not_buy</th>\n",
       "    </tr>\n",
       "    <tr>\n",
       "      <th>event_time</th>\n",
       "      <th></th>\n",
       "      <th></th>\n",
       "      <th></th>\n",
       "      <th></th>\n",
       "      <th></th>\n",
       "      <th></th>\n",
       "      <th></th>\n",
       "      <th></th>\n",
       "    </tr>\n",
       "  </thead>\n",
       "  <tbody>\n",
       "    <tr>\n",
       "      <th>2022-11-15 00:00:00.287594</th>\n",
       "      <td>2022-11-15 00:00:00.282</td>\n",
       "      <td>0.1735</td>\n",
       "      <td>441.0</td>\n",
       "      <td>1</td>\n",
       "      <td>1000LUNC_USDT_PERP</td>\n",
       "      <td>76.5135</td>\n",
       "      <td>0.0</td>\n",
       "      <td>0</td>\n",
       "    </tr>\n",
       "    <tr>\n",
       "      <th>2022-11-15 00:00:00.287614</th>\n",
       "      <td>2022-11-15 00:00:00.282</td>\n",
       "      <td>0.1735</td>\n",
       "      <td>31.0</td>\n",
       "      <td>1</td>\n",
       "      <td>1000LUNC_USDT_PERP</td>\n",
       "      <td>5.3785</td>\n",
       "      <td>0.0</td>\n",
       "      <td>0</td>\n",
       "    </tr>\n",
       "  </tbody>\n",
       "</table>\n",
       "</div>"
      ],
      "text/plain": [
       "                                            ex_time   price  quantity  is_buy  \\\n",
       "event_time                                                                      \n",
       "2022-11-15 00:00:00.287594  2022-11-15 00:00:00.282  0.1735     441.0       1   \n",
       "2022-11-15 00:00:00.287614  2022-11-15 00:00:00.282  0.1735      31.0       1   \n",
       "\n",
       "                                        symbol  money_buy  money_sell  \\\n",
       "event_time                                                              \n",
       "2022-11-15 00:00:00.287594  1000LUNC_USDT_PERP    76.5135         0.0   \n",
       "2022-11-15 00:00:00.287614  1000LUNC_USDT_PERP     5.3785         0.0   \n",
       "\n",
       "                            is_not_buy  \n",
       "event_time                              \n",
       "2022-11-15 00:00:00.287594           0  \n",
       "2022-11-15 00:00:00.287614           0  "
      ]
     },
     "execution_count": 17,
     "metadata": {},
     "output_type": "execute_result"
    }
   ],
   "source": [
    "separated_df_dict[names[0]].head(2)"
   ]
  },
  {
   "cell_type": "markdown",
   "id": "1b0108a1",
   "metadata": {},
   "source": [
    "Since the trades in different currencies are not coordinated in time, we **quantize** the entire time series for each of the currencies. This will also allow us to **reduce** the dimensionality of the data and formalize the notion of price in `300ms` (*this is the average price we saw in the following `300ms` size window*). Since the quantization process of each of the currencies can be performed **independently** of the others, we can **parallelize** it.\n",
    "\n",
    "For this we will use the `quantize_table` function:"
   ]
  },
  {
   "cell_type": "code",
   "execution_count": 18,
   "id": "57f71f3c",
   "metadata": {},
   "outputs": [
    {
     "name": "stdout",
     "output_type": "stream",
     "text": [
      "Help on function quantize_table in module preprocessing_utils:\n",
      "\n",
      "quantize_table(df: pandas.core.frame.DataFrame, freq: str = '300ms') -> pandas.core.frame.DataFrame\n",
      "    Returns a dataframe quantized by 'freq'-sized windows . Inside each window it calculates\n",
      "    some statistics (mean, median, standard deviation, and others).\n",
      "    \n",
      "    :param df: unprocessed dataframe\n",
      "    :param freq: quantization window width\n",
      "    :return: quantized dataframe with some statistics\n",
      "\n"
     ]
    }
   ],
   "source": [
    "help(preprocessing_utils.quantize_table)"
   ]
  },
  {
   "cell_type": "code",
   "execution_count": 19,
   "id": "b65e5ad7",
   "metadata": {},
   "outputs": [
    {
     "name": "stdout",
     "output_type": "stream",
     "text": [
      "CPU times: user 26.4 s, sys: 16.7 s, total: 43 s\n",
      "Wall time: 5min 7s\n"
     ]
    }
   ],
   "source": [
    "%%time\n",
    "n_cores = 8\n",
    "pool = Pool(n_cores)\n",
    "with Pool(n_cores) as p:\n",
    "    res = p.starmap(preprocessing_utils.quantize_table, [(separated_df_dict[name], '300ms') for name in names])\n",
    "df_quantized_dict = {name: res[i] for i, name in enumerate(names)}\n",
    "\n",
    "# we quantize the target table separately, because it has a different scheme\n",
    "target['event_time'] = pd.to_datetime(target.index)\n",
    "target = target.set_index('event_time')\n",
    "df_quantized_dict[TARGET_NAME] = target.groupby(\n",
    "    pd.Grouper(freq='300ms',\n",
    "               origin='start_day')).agg(price_mean=(TARGET_NAME, np.mean))"
   ]
  },
  {
   "cell_type": "code",
   "execution_count": 20,
   "id": "e4b17db3",
   "metadata": {},
   "outputs": [],
   "source": [
    "preprocessing_utils.save_tables(df_quantized_dict, df_quantized_dict.keys(), '../data/quantized')"
   ]
  },
  {
   "cell_type": "markdown",
   "id": "be108ba3",
   "metadata": {},
   "source": [
    "# Results\n",
    "\n",
    "### unified price format for all currencies and reduced table sizes"
   ]
  },
  {
   "cell_type": "code",
   "execution_count": 21,
   "id": "17963286",
   "metadata": {},
   "outputs": [
    {
     "data": {
      "text/html": [
       "<div>\n",
       "<style scoped>\n",
       "    .dataframe tbody tr th:only-of-type {\n",
       "        vertical-align: middle;\n",
       "    }\n",
       "\n",
       "    .dataframe tbody tr th {\n",
       "        vertical-align: top;\n",
       "    }\n",
       "\n",
       "    .dataframe thead th {\n",
       "        text-align: right;\n",
       "    }\n",
       "</style>\n",
       "<table border=\"1\" class=\"dataframe\">\n",
       "  <thead>\n",
       "    <tr style=\"text-align: right;\">\n",
       "      <th></th>\n",
       "      <th>price_mean</th>\n",
       "      <th>price_median</th>\n",
       "      <th>price_std</th>\n",
       "      <th>buy_price_sum</th>\n",
       "      <th>sell_price_sum</th>\n",
       "      <th>nonzero_count</th>\n",
       "      <th>buy_count</th>\n",
       "      <th>sell_count</th>\n",
       "    </tr>\n",
       "    <tr>\n",
       "      <th>event_time</th>\n",
       "      <th></th>\n",
       "      <th></th>\n",
       "      <th></th>\n",
       "      <th></th>\n",
       "      <th></th>\n",
       "      <th></th>\n",
       "      <th></th>\n",
       "      <th></th>\n",
       "    </tr>\n",
       "  </thead>\n",
       "  <tbody>\n",
       "    <tr>\n",
       "      <th>2022-11-15 23:59:59.100</th>\n",
       "      <td>0.1839</td>\n",
       "      <td>0.1839</td>\n",
       "      <td>0.0</td>\n",
       "      <td>747.9213</td>\n",
       "      <td>0.0000</td>\n",
       "      <td>5</td>\n",
       "      <td>5</td>\n",
       "      <td>0</td>\n",
       "    </tr>\n",
       "    <tr>\n",
       "      <th>2022-11-15 23:59:59.400</th>\n",
       "      <td>NaN</td>\n",
       "      <td>NaN</td>\n",
       "      <td>NaN</td>\n",
       "      <td>0.0000</td>\n",
       "      <td>0.0000</td>\n",
       "      <td>0</td>\n",
       "      <td>0</td>\n",
       "      <td>0</td>\n",
       "    </tr>\n",
       "    <tr>\n",
       "      <th>2022-11-15 23:59:59.700</th>\n",
       "      <td>0.1839</td>\n",
       "      <td>0.1839</td>\n",
       "      <td>0.0</td>\n",
       "      <td>0.0000</td>\n",
       "      <td>999.6804</td>\n",
       "      <td>2</td>\n",
       "      <td>0</td>\n",
       "      <td>2</td>\n",
       "    </tr>\n",
       "  </tbody>\n",
       "</table>\n",
       "</div>"
      ],
      "text/plain": [
       "                         price_mean  price_median  price_std  buy_price_sum  \\\n",
       "event_time                                                                    \n",
       "2022-11-15 23:59:59.100      0.1839        0.1839        0.0       747.9213   \n",
       "2022-11-15 23:59:59.400         NaN           NaN        NaN         0.0000   \n",
       "2022-11-15 23:59:59.700      0.1839        0.1839        0.0         0.0000   \n",
       "\n",
       "                         sell_price_sum  nonzero_count  buy_count  sell_count  \n",
       "event_time                                                                     \n",
       "2022-11-15 23:59:59.100          0.0000              5          5           0  \n",
       "2022-11-15 23:59:59.400          0.0000              0          0           0  \n",
       "2022-11-15 23:59:59.700        999.6804              2          0           2  "
      ]
     },
     "execution_count": 21,
     "metadata": {},
     "output_type": "execute_result"
    }
   ],
   "source": [
    "df_quantized_dict[names[0]].tail(3)"
   ]
  },
  {
   "cell_type": "code",
   "execution_count": 22,
   "id": "6741cfee",
   "metadata": {},
   "outputs": [
    {
     "data": {
      "text/html": [
       "<div>\n",
       "<style scoped>\n",
       "    .dataframe tbody tr th:only-of-type {\n",
       "        vertical-align: middle;\n",
       "    }\n",
       "\n",
       "    .dataframe tbody tr th {\n",
       "        vertical-align: top;\n",
       "    }\n",
       "\n",
       "    .dataframe thead th {\n",
       "        text-align: right;\n",
       "    }\n",
       "</style>\n",
       "<table border=\"1\" class=\"dataframe\">\n",
       "  <thead>\n",
       "    <tr style=\"text-align: right;\">\n",
       "      <th></th>\n",
       "      <th>price_mean</th>\n",
       "    </tr>\n",
       "    <tr>\n",
       "      <th>event_time</th>\n",
       "      <th></th>\n",
       "    </tr>\n",
       "  </thead>\n",
       "  <tbody>\n",
       "    <tr>\n",
       "      <th>2022-11-15 23:59:58.800</th>\n",
       "      <td>0.221298</td>\n",
       "    </tr>\n",
       "    <tr>\n",
       "      <th>2022-11-15 23:59:59.100</th>\n",
       "      <td>0.221291</td>\n",
       "    </tr>\n",
       "    <tr>\n",
       "      <th>2022-11-15 23:59:59.400</th>\n",
       "      <td>0.221298</td>\n",
       "    </tr>\n",
       "  </tbody>\n",
       "</table>\n",
       "</div>"
      ],
      "text/plain": [
       "                         price_mean\n",
       "event_time                         \n",
       "2022-11-15 23:59:58.800    0.221298\n",
       "2022-11-15 23:59:59.100    0.221291\n",
       "2022-11-15 23:59:59.400    0.221298"
      ]
     },
     "execution_count": 22,
     "metadata": {},
     "output_type": "execute_result"
    }
   ],
   "source": [
    "df_quantized_dict[TARGET_NAME].tail(3)"
   ]
  },
  {
   "cell_type": "code",
   "execution_count": 23,
   "id": "0e62bd45",
   "metadata": {},
   "outputs": [
    {
     "name": "stdout",
     "output_type": "stream",
     "text": [
      " The size of the quantized target currency table is 287999,\n",
      " the size of the quantized table of the other currency is 288000\n"
     ]
    }
   ],
   "source": [
    "target_shape = df_quantized_dict[TARGET_NAME].shape[0]\n",
    "data_shape = df_quantized_dict[names[0]].shape[0]\n",
    "print(f' The size of the quantized target currency table is {target_shape},\\n',\n",
    "      f'the size of the quantized table of the other currency is {data_shape}')"
   ]
  },
  {
   "cell_type": "markdown",
   "id": "6008b670",
   "metadata": {},
   "source": [
    "We can see that the size of the tables **has decreased a lot** and now the data are **almost consistent** (they differ in a few extreme windows of size `300ms`)."
   ]
  },
  {
   "cell_type": "code",
   "execution_count": 24,
   "id": "ac13c381",
   "metadata": {},
   "outputs": [
    {
     "name": "stdout",
     "output_type": "stream",
     "text": [
      "The number of nan in target table is 89910.\n",
      "This is 31.2% of the target table\n"
     ]
    }
   ],
   "source": [
    "target_table = df_quantized_dict[TARGET_NAME]\n",
    "nan_val = sum(target_table['price_mean'].isnull())\n",
    "print(f'The number of nan in target table is {nan_val}.\\nThis is {round(100*nan_val/target_table.shape[0], 1)}% of the target table')"
   ]
  },
  {
   "cell_type": "markdown",
   "id": "b95a6d12",
   "metadata": {},
   "source": [
    "We see that the quantization inevitably generates `Nans` (even if they were not in the original dataset), because not all `300ms` windows were traded. \n",
    "In the next notebook `building_features_notebook` we will fight with this and build features."
   ]
  }
 ],
 "metadata": {
  "kernelspec": {
   "display_name": "Python 3 (ipykernel)",
   "language": "python",
   "name": "python3"
  },
  "language_info": {
   "codemirror_mode": {
    "name": "ipython",
    "version": 3
   },
   "file_extension": ".py",
   "mimetype": "text/x-python",
   "name": "python",
   "nbconvert_exporter": "python",
   "pygments_lexer": "ipython3",
   "version": "3.8.15"
  }
 },
 "nbformat": 4,
 "nbformat_minor": 5
}
